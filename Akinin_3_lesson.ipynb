{
 "cells": [
  {
   "cell_type": "markdown",
   "metadata": {},
   "source": [
    "# Лабораторная работа №3: решение нелинейных уравнений. Выполнил Акинин А.А., студент 431 группы"
   ]
  },
  {
   "cell_type": "markdown",
   "metadata": {},
   "source": [
    "# Теоретическая часть\n",
    "\n",
    "Дана функция $f(x)$, необходимо найти корень уравнения $x': f(x') = 0$.\n",
    "\n",
    "### Метод дихотомии\n",
    "Надо знать отрезок $[a,b]$, на котором заведомо есть корень, вычисляем значение функции в точках $a$ и $b$ и в точке $c$, которая находится посередите этого отрезка.\n",
    "\n",
    "### Метод хорд\n",
    "То же самое, только между $a$ и $b$ проводим прямую - её пересечение с осью $x$ будет точкой $c$.\n",
    "\n",
    "### Метод Ньютона\n",
    "Дана начальная точка $x_0$, строим в этой точке касательную к функции, и пересечение этой касательной с осью $x$ будет точкой $x_1$ - и так далее.\n",
    "\n",
    "### Метод простых итераций\n",
    "То же самое, что метод Ньютона, но изначально один раз вычисляется производная и потом она используется в итерациях."
   ]
  },
  {
   "cell_type": "markdown",
   "metadata": {},
   "source": [
    "***"
   ]
  },
  {
   "cell_type": "markdown",
   "metadata": {},
   "source": [
    "# Практическая часть \n",
    "Для начала введем функцию вычисления производной, так как она понадобится для некоторых методов."
   ]
  },
  {
   "cell_type": "code",
   "execution_count": 1,
   "metadata": {},
   "outputs": [],
   "source": [
    "import numpy as np\n",
    "import matplotlib.pyplot as plt"
   ]
  },
  {
   "cell_type": "markdown",
   "metadata": {},
   "source": [
    "Функции, необходимые для обеспечения математического аппарата алгоритмов решения нелинейных уравнений:"
   ]
  },
  {
   "cell_type": "code",
   "execution_count": 2,
   "metadata": {},
   "outputs": [],
   "source": [
    "# Простая численная производная \n",
    "def derivative(func, x, h):\n",
    "        return (func(x+h) - func(x))/(h)\n",
    "\n",
    "# Частная производная по первой переменной функции (х)\n",
    "def partial_x(func, x, y, h):\n",
    "        return (func(x+h, y) - func(x, y))/h\n",
    "\n",
    "# Частная производная по второй переменной функции (у)\n",
    "def partial_y(func, x, y, h):\n",
    "    return (func(x, y+h) - func(x,y))/h\n",
    "\n",
    "# Матрица Якоби\n",
    "def Jacobian_matrix(func1, func2, x, y, h):\n",
    "    return np.array(\n",
    "        [[partial_x(func1, x, y, h), partial_y(func1, x, y, h)],\n",
    "         [partial_x(func2, x, y, h), partial_y(func2, x, y, h)]])"
   ]
  },
  {
   "cell_type": "markdown",
   "metadata": {},
   "source": [
    "Алгоритмы решения нелинейных уравнений:"
   ]
  },
  {
   "cell_type": "code",
   "execution_count": 3,
   "metadata": {},
   "outputs": [],
   "source": [
    "def get_root_dich(func, a, b, err=1e-4, iters=1000, debug=False):\n",
    "    \n",
    "    # Тривиальный случай: один из краев [a,b] является корнем\n",
    "    if func(a) == 0:\n",
    "        return a\n",
    "    if func(b) == 0:\n",
    "        return b\n",
    "    \n",
    "    c = (a+b)/2\n",
    "    k = 0\n",
    "    while abs(c-a) > err:\n",
    "        \n",
    "        # Проверка достижения максимального количества итераций\n",
    "        if k > iters: raise Exception('Exceeded max iterations') \n",
    "        k += 1\n",
    "        \n",
    "        # Вывод итераций для проверки \n",
    "        if debug: print(X)\n",
    "        \n",
    "        # Если sgn(func(c))!=sgn(func(b)), то [a,b]=>[c,b]\n",
    "        if (p_c:=func(c))*func(b) < 0: \n",
    "            a = c\n",
    "            \n",
    "        # Если sgn(func(c))!=sgn(func(a)), то [a,b]=>[a,c]\n",
    "        elif p_c*func(a) < 0: \n",
    "            b = c\n",
    "        \n",
    "        # Если func(c)=0, то сдвинуть немного с\n",
    "        else: \n",
    "            c += err\n",
    "            continue\n",
    "        \n",
    "        c = (a+b)/2\n",
    "        \n",
    "    return c"
   ]
  },
  {
   "cell_type": "code",
   "execution_count": 4,
   "metadata": {},
   "outputs": [],
   "source": [
    "def get_root_hord(func, a, b, err=1e-4, iters=1000, debug=False):\n",
    "    \n",
    "    # Тривиальный случай: один из краев [a,b] является корнем\n",
    "    if func(a) == 0:\n",
    "        return a\n",
    "    if func(b) == 0:\n",
    "        return b\n",
    "    \n",
    "    c = a - (b-a)*func(a)/(func(b)-func(a))\n",
    "    k = 0\n",
    "    while abs(c-a) > err:\n",
    "        \n",
    "        # Проверка достижения максимального количества итераций\n",
    "        if k > iters: raise Exception('Exceeded max iterations') \n",
    "        k += 1\n",
    "        \n",
    "        # Вывод итераций для проверки \n",
    "        if debug: print(X)\n",
    "        \n",
    "        a = c\n",
    "        c = a - func(a)*(b-a)/(func(b)-func(a))\n",
    "    \n",
    "    return c"
   ]
  },
  {
   "cell_type": "code",
   "execution_count": 5,
   "metadata": {},
   "outputs": [],
   "source": [
    "def get_root_newt(func, x, err=1e-4, iters=1000, debug=False):\n",
    "    \n",
    "    # Тривиальный случай: х является корнем\n",
    "    if func(x) == 0:\n",
    "        return x\n",
    "    \n",
    "    diff, k = 1e10, 0\n",
    "    while diff > err:\n",
    "        \n",
    "        # Проверка достижения максимального количества итераций\n",
    "        if k > iters: raise Exception('Exceeded max iterations') \n",
    "        k += 1\n",
    "        \n",
    "        # Вывод результата итераций для проверки \n",
    "        if debug: print(x)\n",
    "        \n",
    "        # Тупиковый случай: если в x_n точке dy/dx=0, то сдвинуть немного x_n\n",
    "        if (deriv := derivative(func, x, err)) == 0:\n",
    "            x += err/2\n",
    "            deriv = derivative(func, x, err)\n",
    "        \n",
    "        x_prev = x\n",
    "        x = x - func(x)/deriv\n",
    "        diff = abs(x-x_prev)\n",
    "        \n",
    "    return x"
   ]
  },
  {
   "cell_type": "code",
   "execution_count": 6,
   "metadata": {},
   "outputs": [],
   "source": [
    "def get_root_simple_iter(func, x, err=1e-4, iters=1000, debug=False):\n",
    "    \n",
    "    # Тривиальный случай: х является корнем\n",
    "    if func(x) == 0:\n",
    "        return x\n",
    "    \n",
    "    # Тупиковый случай: если в x_0 точке dy/dx=0, то сдвинуть немного x_0\n",
    "    if (start_deriv := derivative(func, x, err)) == 0:\n",
    "        x += err/2\n",
    "        start_deriv = derivative(func, x, err)\n",
    "    \n",
    "    diff, k = 1e10, 0\n",
    "    while diff > err:\n",
    "        \n",
    "        # Проверка достижения максимального количества итераций\n",
    "        if k > iters: raise Exception('Exceeded max iterations') \n",
    "        k += 1\n",
    "        \n",
    "        # Вывод итераций для проверки \n",
    "        if debug: print(X)\n",
    "        \n",
    "        x_prev = x\n",
    "        x = x - func(x)/start_deriv\n",
    "        diff = abs(x-x_prev)\n",
    "    \n",
    "    return x"
   ]
  },
  {
   "cell_type": "code",
   "execution_count": 7,
   "metadata": {},
   "outputs": [],
   "source": [
    "def system_newt_solve(func1, func2, X, err=1e-4, iters=1000, debug=False):\n",
    "    \n",
    "    # Тривиальный случай: X является решением\n",
    "    if func1(X[0], X[1]) == 0 and func2(X[0], X[1]) == 0:\n",
    "        return X\n",
    "    \n",
    "    diff_X = np.array([1e10, 1e10])\n",
    "    k = 0\n",
    "    while np.sqrt(diff_X.dot(diff_X)) > err:\n",
    "        \n",
    "        # Проверка достижения максимального количества итераций\n",
    "        if k > iters: raise Exception('Exceeded max iterations') \n",
    "        k += 1\n",
    "        \n",
    "        # Вывод итераций для проверки \n",
    "        if debug: print(X)\n",
    "        \n",
    "        # Вычисление обратной матрицы Якоби\n",
    "        J = Jacobian_matrix(func1, func2, X[0], X[1], err/10)\n",
    "        \n",
    "        # Тупиковый случай: определитель матрицы Якоби равен нулю\n",
    "        if np.linalg.det(J) == 0:\n",
    "            X[0] += err/2\n",
    "            X[1] += err/2\n",
    "            continue\n",
    "        J_inv = np.linalg.inv(J)\n",
    "        \n",
    "        F = np.array([func1(X[0], X[1]), func2(X[0], X[1])])\n",
    "        \n",
    "        prev_X = X\n",
    "        X = X - np.dot(J_inv, F)\n",
    "        diff_X = X - prev_X\n",
    "        \n",
    "    return X"
   ]
  },
  {
   "cell_type": "markdown",
   "metadata": {},
   "source": [
    "***"
   ]
  },
  {
   "cell_type": "markdown",
   "metadata": {},
   "source": [
    "# Задание 1\n",
    "Выполните определение корней аналитически и найдите один из корней методами дихотомии и хорд с абсолютной погрешностью $10^{-4}$. \n",
    "\n",
    "$$ 3x^4 + 4x^3 - 12x^2 - 5 = 0 $$\n",
    "\n",
    "\n",
    "\n",
    "## Решение\n",
    "\n",
    "Аналитические корни: \n",
    "\n",
    "$x_1=-2.82385308322$\n",
    "\n",
    "$x_2=1.59208806469$\n",
    "\n",
    "\n",
    "Задаем функцию и точки для отрезека, в котором будем искать корни."
   ]
  },
  {
   "cell_type": "code",
   "execution_count": 8,
   "metadata": {},
   "outputs": [],
   "source": [
    "func1 = lambda x: 3*x**4 + 4*x**3 - 12*x**2 - 5\n",
    "\n",
    "true_root1_1 = -2.82385308322\n",
    "true_root1_2 = 1.59208806469"
   ]
  },
  {
   "cell_type": "markdown",
   "metadata": {},
   "source": [
    "График функции $y(x) = 3x^4 + 4x^3 - 12x^2 - 5$"
   ]
  },
  {
   "cell_type": "code",
   "execution_count": 9,
   "metadata": {},
   "outputs": [
    {
     "data": {
      "text/plain": [
       "Text(0.1, 21, '1.59208806469')"
      ]
     },
     "execution_count": 9,
     "metadata": {},
     "output_type": "execute_result"
    },
    {
     "data": {
      "image/png": "[encoded data removed]",
      "text/plain": [
       "<Figure size 640x480 with 1 Axes>"
      ]
     },
     "metadata": {},
     "output_type": "display_data"
    }
   ],
   "source": [
    "X_span = np.linspace(-3, 2, 100)\n",
    "Y = func1(X_span)\n",
    "\n",
    "plt.axhline(0, color='black')\n",
    "plt.axvline(0, color='black')\n",
    "plt.grid(True)\n",
    "\n",
    "plt.plot(X_span, Y, label='', color='r')\n",
    "plt.plot([true_root1_1,], [0,], label='', color='b', marker='D')\n",
    "plt.plot([true_root1_2,], [0,], label='', color='b', marker='D')\n",
    "\n",
    "plt.annotate(f'{true_root1_1}', xy=(true_root1_1, 0), xytext=(-2, 21), arrowprops=dict(facecolor='black', shrink=0.05))\n",
    "plt.annotate(f'{true_root1_2}', xy=(true_root1_2, 0), xytext=(0.1, 21), arrowprops=dict(facecolor='black', shrink=0.05))\n"
   ]
  },
  {
   "cell_type": "markdown",
   "metadata": {},
   "source": [
    "Численное решение:"
   ]
  },
  {
   "cell_type": "code",
   "execution_count": 10,
   "metadata": {},
   "outputs": [],
   "source": [
    "a1, b1 = -3, 2"
   ]
  },
  {
   "cell_type": "code",
   "execution_count": 11,
   "metadata": {},
   "outputs": [
    {
     "name": "stdout",
     "output_type": "stream",
     "text": [
      "Корень методом дихотомии: 1.5921\n",
      "Корень методом хорд: 1.5921\n"
     ]
    }
   ],
   "source": [
    "root1 = get_root_dich(func1, a1, b1)\n",
    "print(f'Корень методом дихотомии: {root1:0.4f}', )\n",
    "\n",
    "root2 = get_root_hord(func1, a1, b1)\n",
    "print(f'Корень методом хорд: {root2:0.4f}')"
   ]
  },
  {
   "cell_type": "markdown",
   "metadata": {},
   "source": [
    "***"
   ]
  },
  {
   "cell_type": "markdown",
   "metadata": {},
   "source": [
    "# Задание 2\n",
    "Выполните определение корней аналитически и найдите один из корней методами простых итераций и Ньютона с абсолютной погрешностью $10^{-4}$. \n",
    "\n",
    "$$ x + \\ln{(1+x)} - 1.5 = 0 $$\n",
    "\n",
    "\n",
    "\n",
    "## Решение\n",
    "\n",
    "Аналитические корни: $x_1=0.872647040417$\n",
    "\n",
    "\n",
    "Задаем функцию и точки для отрезека, в котором будем искать корни."
   ]
  },
  {
   "cell_type": "code",
   "execution_count": 12,
   "metadata": {},
   "outputs": [],
   "source": [
    "func2 = lambda x: x + np.log(1+x) - 1.5\n",
    "\n",
    "true_root2 = 0.872647040417"
   ]
  },
  {
   "cell_type": "markdown",
   "metadata": {},
   "source": [
    "График функции $y(x) = x + \\ln{(1+x)} - 1.5 = 0 $"
   ]
  },
  {
   "cell_type": "code",
   "execution_count": 13,
   "metadata": {},
   "outputs": [
    {
     "data": {
      "text/plain": [
       "Text(0.6, -2, '0.872647040417')"
      ]
     },
     "execution_count": 13,
     "metadata": {},
     "output_type": "execute_result"
    },
    {
     "data": {
      "image/png": "[encoded data removed]",
      "text/plain": [
       "<Figure size 640x480 with 1 Axes>"
      ]
     },
     "metadata": {},
     "output_type": "display_data"
    }
   ],
   "source": [
    "X_span = np.linspace(-0.5, 1, 100)\n",
    "Y = func2(X_span)\n",
    "\n",
    "plt.axhline(0, color='black')\n",
    "plt.axvline(0, color='black')\n",
    "plt.grid(True)\n",
    "\n",
    "plt.plot(X_span, Y, label='', color='r')\n",
    "plt.plot([true_root2,], [0,], label='', color='b', marker='D')\n",
    "\n",
    "plt.annotate(f'{true_root2}', xy=(true_root2, 0), xytext=(0.6, -2), arrowprops=dict(facecolor='black', shrink=0.05))\n"
   ]
  },
  {
   "cell_type": "markdown",
   "metadata": {},
   "source": [
    "Численное решение:"
   ]
  },
  {
   "cell_type": "code",
   "execution_count": 14,
   "metadata": {},
   "outputs": [],
   "source": [
    "x_0 = np.pi"
   ]
  },
  {
   "cell_type": "code",
   "execution_count": 15,
   "metadata": {},
   "outputs": [
    {
     "name": "stdout",
     "output_type": "stream",
     "text": [
      "Корень методом Ньютона: 0.8726\n",
      "Корень методом простых итераций: 0.8727\n"
     ]
    }
   ],
   "source": [
    "root3 = get_root_newt(func2, x_0)\n",
    "print(f'Корень методом Ньютона: {root3:0.4f}')\n",
    "\n",
    "root4 = get_root_simple_iter(func2, x_0)\n",
    "print(f'Корень методом простых итераций: {root4:0.4f}')"
   ]
  },
  {
   "cell_type": "markdown",
   "metadata": {},
   "source": [
    "***"
   ]
  },
  {
   "cell_type": "markdown",
   "metadata": {},
   "source": [
    "# Задание 3\n",
    "Найдите одно из решений системы уравнений методом Ньютона с абсолютной погрешностью $10^{-4}$. \n",
    "\n",
    "\\begin{equation}\n",
    "\\begin{cases}\n",
    "x^2 + (y-1)^2 = 1 \\\\\n",
    "x^3 + y^3 = 2\n",
    "\\end{cases}\n",
    "\\end{equation}\n",
    "\n",
    "\n",
    "\n",
    "## Решение\n",
    "\n",
    "Аналитические корни: \n",
    "\n",
    "$x_1=1,y_1=1$\n",
    "\n",
    "$x_2=-0.914893013993, y_2=1.4036938709$"
   ]
  },
  {
   "cell_type": "code",
   "execution_count": 16,
   "metadata": {},
   "outputs": [],
   "source": [
    "func1 = lambda x, y: x**2 + (y-1)**2 - 1\n",
    "func2 = lambda x, y: x**3 + y**3 - 2\n",
    "\n",
    "true_root3_1 = [1, 1]\n",
    "true_root3_2 = [-0.914893013993, 1.4036938709]"
   ]
  },
  {
   "cell_type": "code",
   "execution_count": 17,
   "metadata": {},
   "outputs": [
    {
     "data": {
      "text/plain": [
       "Text(-0.75, 0.6, '[-0.914893013993, 1.4036938709]')"
      ]
     },
     "execution_count": 17,
     "metadata": {},
     "output_type": "execute_result"
    },
    {
     "data": {
      "image/png": "[encoded data removed]",
      "text/plain": [
       "<Figure size 640x480 with 1 Axes>"
      ]
     },
     "metadata": {},
     "output_type": "display_data"
    }
   ],
   "source": [
    "X_span = np.linspace(-1, 1, 100)\n",
    "Y1_1 = (lambda x: np.sqrt(-x**2+1)+1)(X_span)\n",
    "Y1_2 = (lambda x: -np.sqrt(-x**2+1)+1)(X_span)\n",
    "Y2 = (lambda x: (-x**3+2)**(1/3))(X_span)\n",
    "\n",
    "plt.axhline(0, color='black')\n",
    "plt.axvline(0, color='black')\n",
    "plt.grid(True)\n",
    "\n",
    "plt.plot(X_span, Y1_1, label='', color='r')\n",
    "plt.plot(X_span, Y1_2, label='', color='r')\n",
    "plt.plot(X_span, Y2, label='', color='b')\n",
    "\n",
    "plt.plot([true_root3_1[0]], [true_root3_1[1]], label='', color='orange', marker='D')\n",
    "plt.plot([true_root3_2[0]], [true_root3_2[1]], label='', color='orange', marker='D')\n",
    "\n",
    "plt.annotate(f'{true_root3_1}', xy=true_root3_1, xytext=(0.5, 0.5), arrowprops=dict(facecolor='black', shrink=0.05))\n",
    "plt.annotate(f'{true_root3_2}', xy=true_root3_2, xytext=(-0.75, 0.6), arrowprops=dict(facecolor='black', shrink=0.05))\n"
   ]
  },
  {
   "cell_type": "markdown",
   "metadata": {},
   "source": [
    "Численное решение:"
   ]
  },
  {
   "cell_type": "code",
   "execution_count": 18,
   "metadata": {},
   "outputs": [],
   "source": [
    "X_init = np.array([np.pi, np.e])"
   ]
  },
  {
   "cell_type": "code",
   "execution_count": 19,
   "metadata": {},
   "outputs": [
    {
     "name": "stdout",
     "output_type": "stream",
     "text": [
      "Решение системы уравнений методом Ньютона: [1. 1.]\n"
     ]
    }
   ],
   "source": [
    "solution = system_newt_solve(func1, func2, X_init, debug=False)\n",
    "print(f'Решение системы уравнений методом Ньютона: {solution}')"
   ]
  }
 ],
 "metadata": {
  "kernelspec": {
   "display_name": "Python 3 (ipykernel)",
   "language": "python",
   "name": "python3"
  },
  "language_info": {
   "codemirror_mode": {
    "name": "ipython",
    "version": 3
   },
   "file_extension": ".py",
   "mimetype": "text/x-python",
   "name": "python",
   "nbconvert_exporter": "python",
   "pygments_lexer": "ipython3",
   "version": "3.9.12"
  }
 },
 "nbformat": 4,
 "nbformat_minor": 4
}
