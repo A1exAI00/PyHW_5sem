{
 "cells": [
  {
   "cell_type": "markdown",
   "id": "a7364740",
   "metadata": {},
   "source": [
    "# Лабораторная работа №6. Выполнил Акинин Александр, студент 431 группы"
   ]
  },
  {
   "cell_type": "code",
   "execution_count": 1,
   "id": "61de9156",
   "metadata": {},
   "outputs": [],
   "source": [
    "import numpy as np\n",
    "import multiprocessing"
   ]
  },
  {
   "cell_type": "markdown",
   "id": "313384a9",
   "metadata": {},
   "source": [
    "### Функции подсчёта интеграла левыми, правыми и средними прямоугольниками"
   ]
  },
  {
   "cell_type": "code",
   "execution_count": 2,
   "id": "0796f8ec",
   "metadata": {},
   "outputs": [],
   "source": [
    "def left_rect_integral(func, a, b, h):\n",
    "    n = int((b-a)/h)\n",
    "    res = 0\n",
    "    for i in range(n):\n",
    "        x = a + i*h\n",
    "        if np.isnan(y:=func(x)):\n",
    "            y = func(x+h_epsilon)\n",
    "        res += y\n",
    "    return res*h\n",
    "\n",
    "def right_rect_integral(func, a, b, h):\n",
    "    n = int((b-a)/h)\n",
    "    res = 0\n",
    "    for i in range(1,n+1):\n",
    "        x = a + i*h\n",
    "        if np.isnan(y:=func(x)):\n",
    "            y = func(x+h_epsilon)\n",
    "        res += y\n",
    "    return res*h\n",
    "\n",
    "def middle_rect_integral(func, a, b, h):\n",
    "    n = int((b-a)/h)\n",
    "    res = 0\n",
    "    for i in range(n):\n",
    "        x = a + i*h + h/2\n",
    "        if np.isnan(y:=func(x)):\n",
    "            y = func(x+h_epsilon)\n",
    "        res += y\n",
    "    return res*h"
   ]
  },
  {
   "cell_type": "code",
   "execution_count": 3,
   "id": "f9793b3b",
   "metadata": {},
   "outputs": [],
   "source": [
    "integration_epsilon = 1e-4\n",
    "h_epsilon = 1e-20\n",
    "\n",
    "# func = lambda x: np.sin(x)*np.log(1+x)/(x**2 * np.sqrt(x))\n",
    "def func(x): return np.sin(x)*np.log(1+x)/(x**2 * np.sqrt(x))\n",
    "a, b = 0, 9\n",
    "\n",
    "# Значения максимальной первой и второй производных нужны для \n",
    "# соответствия шага интегрирования точности интегрирования\n",
    "# Технически они равны бесконечности, но в можем принять их как \n",
    "func_max_1st_deriv = 1e5 # << func'(x=h_epsilon) = ~1e30\n",
    "func_max_2nd_deriv = 1e5 # << func''(x=h_epsilon) = ~1e50\n",
    "\n",
    "h_lr = np.sqrt(integration_epsilon*2/func_max_1st_deriv)\n",
    "h_m = np.sqrt(integration_epsilon*24/func_max_2nd_deriv)\n",
    "\n",
    "true_res = 2.0840601436"
   ]
  },
  {
   "cell_type": "code",
   "execution_count": 4,
   "id": "5dd51f3c",
   "metadata": {},
   "outputs": [
    {
     "name": "stderr",
     "output_type": "stream",
     "text": [
      "/tmp/ipykernel_11599/576643013.py:5: RuntimeWarning: invalid value encountered in double_scalars\n",
      "  def func(x): return np.sin(x)*np.log(1+x)/(x**2 * np.sqrt(x))\n"
     ]
    },
    {
     "name": "stdout",
     "output_type": "stream",
     "text": [
      "Интеграл методом левых прямоугольников: 2.0742940976745206\n",
      "Разность с точным значением: 0.00976604592547936\n",
      "\n",
      "Интеграл методом правых прямоугольников: 2.0742942723178937\n",
      "Разность с точным значением: 0.009765871282106264\n",
      "\n",
      "Интеграл методом средних прямоугольников: 2.076530673631369\n",
      "Разность с точным значением: 0.00752946996863102\n",
      "\n"
     ]
    }
   ],
   "source": [
    "left_res = left_rect_integral(func, a, b, h_lr)\n",
    "print('Интеграл методом левых прямоугольников:', left_res)\n",
    "print('Разность с точным значением:', abs(true_res-left_res))\n",
    "print()\n",
    "\n",
    "right_res = right_rect_integral(func, a, b, h_lr)\n",
    "print('Интеграл методом правых прямоугольников:', right_res)\n",
    "print('Разность с точным значением:', abs(true_res-right_res))\n",
    "print()\n",
    "\n",
    "middle_res = middle_rect_integral(func, a, b, h_m)\n",
    "print('Интеграл методом средних прямоугольников:', middle_res)\n",
    "print('Разность с точным значением:', abs(true_res-middle_res))\n",
    "print()"
   ]
  },
  {
   "cell_type": "markdown",
   "id": "04355bf3",
   "metadata": {},
   "source": [
    "### Функция подсчёта интеграла методом средних прямоугольников с автоматическим выбором шага интегрирования"
   ]
  },
  {
   "cell_type": "code",
   "execution_count": 5,
   "id": "323af5fb",
   "metadata": {},
   "outputs": [],
   "source": [
    "def rect_integral_auto_h(func, a, b, eps, debug=False):\n",
    "    h = (b-a)/10\n",
    "    \n",
    "    curr = 1e10\n",
    "    prev = curr*2\n",
    "    \n",
    "    while abs(curr-prev) > eps:\n",
    "        h /= 2\n",
    "        if debug: print(f'h = {h}, n = {int((b-a)/h)}')\n",
    "        prev = curr\n",
    "        curr = middle_rect_integral(func, a, b, h)\n",
    "    \n",
    "    return curr"
   ]
  },
  {
   "cell_type": "code",
   "execution_count": 6,
   "id": "4dbe73c6",
   "metadata": {},
   "outputs": [
    {
     "name": "stdout",
     "output_type": "stream",
     "text": [
      "Интеграл методом средних прямоугольников c автоматическим выбором шага: 2.0750935351984707\n",
      "Разность с точным значением: 0.008966608401529186\n"
     ]
    }
   ],
   "source": [
    "middle_res_auto = rect_integral_auto_h(func, a, b, eps=5e-3, debug=False)\n",
    "print('Интеграл методом средних прямоугольников c автоматическим выбором шага:', middle_res_auto)\n",
    "print('Разность с точным значением:', abs(true_res-middle_res_auto))"
   ]
  },
  {
   "cell_type": "markdown",
   "id": "d8ccc2b1",
   "metadata": {},
   "source": [
    "### Функция параллельного подсчёта интеграла методом средних прямоугольников с автоматическим выбором шага интегрирования и варьированным шагом на отрезке интегрирования "
   ]
  },
  {
   "cell_type": "code",
   "execution_count": 7,
   "id": "16f4be73",
   "metadata": {},
   "outputs": [],
   "source": [
    "# Непараллельная версия функции подсчёта интеграла методом средних прямоугольников \n",
    "# с автоматическим выбором шага интегрирования и варьированным шагом на отрезке интегрирования\n",
    "def rect_integral_auto_var_h(func, a, b, eps, n, debug=False):\n",
    "    l = (b-a)/n\n",
    "    res = 0\n",
    "    for i in range(n):\n",
    "        res += rect_integral_auto_h(func, a+i*l, a+(i+1)*l, eps/(2*np.log(n)), debug)\n",
    "    return res\n",
    "\n",
    "def rect_integral_auto_h_(args):\n",
    "    return rect_integral_auto_h(*args)\n",
    "\n",
    "# ПАРАЛЛЕЛЬНАЯ версия функции подсчёта интеграла методом средних прямоугольников \n",
    "# с автоматическим выбором шага интегрирования и варьированным шагом на отрезке интегрирования.\n",
    "# Пришлось пребегнуть к параллелизации вычислений из-за того, что они \n",
    "# занимают очень много времени для данной точности.\n",
    "def rect_integral_auto_var_h_multi(func, a, b, eps, n, debug=False):\n",
    "    l = (b-a)/n\n",
    "    \n",
    "    func_args = [func for _ in range(n)]\n",
    "    a_args = [a+i*l for i in range(n)]\n",
    "    b_args = [a+(i+1)*l for i in range(n)]\n",
    "    eps_args = [eps/(2*np.log(n)) for _ in range(n)]\n",
    "    \n",
    "    pool = multiprocessing.Pool(processes=multiprocessing.cpu_count())\n",
    "    outputs = pool.map(rect_integral_auto_h_, zip(func_args, a_args, b_args, eps_args))\n",
    "    return sum(outputs)"
   ]
  },
  {
   "cell_type": "code",
   "execution_count": 8,
   "id": "3c4ca6c8",
   "metadata": {},
   "outputs": [
    {
     "name": "stdout",
     "output_type": "stream",
     "text": [
      "Интеграл методом средних прямоугольников c автоматическим и варьированным выбором шага: 2.0840485547833434\n",
      "Разность с точным значением: 1.1588816656527001e-05\n"
     ]
    }
   ],
   "source": [
    "middle_res_auto_var = rect_integral_auto_var_h_multi(func, a, b, eps=1e-4, n=10000, debug=False)\n",
    "print('Интеграл методом средних прямоугольников c автоматическим и варьированным выбором шага:', \n",
    "      middle_res_auto_var)\n",
    "print('Разность с точным значением:', abs(true_res-middle_res_auto_var))"
   ]
  }
 ],
 "metadata": {
  "kernelspec": {
   "display_name": "Python 3 (ipykernel)",
   "language": "python",
   "name": "python3"
  },
  "language_info": {
   "codemirror_mode": {
    "name": "ipython",
    "version": 3
   },
   "file_extension": ".py",
   "mimetype": "text/x-python",
   "name": "python",
   "nbconvert_exporter": "python",
   "pygments_lexer": "ipython3",
   "version": "3.10.8"
  }
 },
 "nbformat": 4,
 "nbformat_minor": 5
}
